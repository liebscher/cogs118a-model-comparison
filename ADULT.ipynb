{
 "cells": [
  {
   "cell_type": "code",
   "execution_count": 1,
   "metadata": {},
   "outputs": [],
   "source": [
    "import pandas as pd\n",
    "pd.options.display.max_columns = 500\n",
    "import numpy as np\n",
    "\n",
    "import datetime\n",
    "import warnings\n",
    "from tqdm import tqdm_notebook as tqdm"
   ]
  },
  {
   "cell_type": "markdown",
   "metadata": {},
   "source": [
    "# Load Remote Data"
   ]
  },
  {
   "cell_type": "code",
   "execution_count": 2,
   "metadata": {},
   "outputs": [],
   "source": [
    "headers = ['age',\n",
    "            'workclass',\n",
    "            'fnlwgt',\n",
    "            'education',\n",
    "            'education-num',\n",
    "            'marital-status',\n",
    "            'occupation',\n",
    "            'relationship',\n",
    "            'race',\n",
    "            'sex',\n",
    "            'capital-gain',\n",
    "            'capital-loss',\n",
    "            'hours-per-week',\n",
    "            'native-country',\n",
    "            'above-50k']"
   ]
  },
  {
   "cell_type": "code",
   "execution_count": 12,
   "metadata": {},
   "outputs": [],
   "source": [
    "ADULT = pd.read_csv('http://archive.ics.uci.edu/ml/machine-learning-databases/adult/adult.data',\n",
    "                   names=headers, index_col=False, na_values=' ?')"
   ]
  },
  {
   "cell_type": "code",
   "execution_count": 23,
   "metadata": {},
   "outputs": [
    {
     "name": "stdout",
     "output_type": "stream",
     "text": [
      "0:00:41.226311\n"
     ]
    }
   ],
   "source": [
    "print(f'{str(datetime.timedelta(seconds=(end - start)))}')"
   ]
  },
  {
   "cell_type": "code",
   "execution_count": 13,
   "metadata": {},
   "outputs": [],
   "source": [
    "ADULT.dropna(inplace=True)"
   ]
  },
  {
   "cell_type": "code",
   "execution_count": 14,
   "metadata": {},
   "outputs": [
    {
     "data": {
      "text/plain": [
       "(30162, 15)"
      ]
     },
     "execution_count": 14,
     "metadata": {},
     "output_type": "execute_result"
    }
   ],
   "source": [
    "ADULT.shape"
   ]
  },
  {
   "cell_type": "code",
   "execution_count": 15,
   "metadata": {},
   "outputs": [
    {
     "data": {
      "text/html": [
       "<div>\n",
       "<style scoped>\n",
       "    .dataframe tbody tr th:only-of-type {\n",
       "        vertical-align: middle;\n",
       "    }\n",
       "\n",
       "    .dataframe tbody tr th {\n",
       "        vertical-align: top;\n",
       "    }\n",
       "\n",
       "    .dataframe thead th {\n",
       "        text-align: right;\n",
       "    }\n",
       "</style>\n",
       "<table border=\"1\" class=\"dataframe\">\n",
       "  <thead>\n",
       "    <tr style=\"text-align: right;\">\n",
       "      <th></th>\n",
       "      <th>age</th>\n",
       "      <th>workclass</th>\n",
       "      <th>fnlwgt</th>\n",
       "      <th>education</th>\n",
       "      <th>education-num</th>\n",
       "      <th>marital-status</th>\n",
       "      <th>occupation</th>\n",
       "      <th>relationship</th>\n",
       "      <th>race</th>\n",
       "      <th>sex</th>\n",
       "      <th>capital-gain</th>\n",
       "      <th>capital-loss</th>\n",
       "      <th>hours-per-week</th>\n",
       "      <th>native-country</th>\n",
       "      <th>above-50k</th>\n",
       "    </tr>\n",
       "  </thead>\n",
       "  <tbody>\n",
       "    <tr>\n",
       "      <th>16715</th>\n",
       "      <td>41</td>\n",
       "      <td>Private</td>\n",
       "      <td>183850</td>\n",
       "      <td>HS-grad</td>\n",
       "      <td>9</td>\n",
       "      <td>Divorced</td>\n",
       "      <td>Sales</td>\n",
       "      <td>Not-in-family</td>\n",
       "      <td>White</td>\n",
       "      <td>Male</td>\n",
       "      <td>0</td>\n",
       "      <td>0</td>\n",
       "      <td>50</td>\n",
       "      <td>United-States</td>\n",
       "      <td>&lt;=50K</td>\n",
       "    </tr>\n",
       "    <tr>\n",
       "      <th>9444</th>\n",
       "      <td>50</td>\n",
       "      <td>Private</td>\n",
       "      <td>120914</td>\n",
       "      <td>11th</td>\n",
       "      <td>7</td>\n",
       "      <td>Married-civ-spouse</td>\n",
       "      <td>Craft-repair</td>\n",
       "      <td>Husband</td>\n",
       "      <td>White</td>\n",
       "      <td>Male</td>\n",
       "      <td>0</td>\n",
       "      <td>0</td>\n",
       "      <td>40</td>\n",
       "      <td>United-States</td>\n",
       "      <td>&lt;=50K</td>\n",
       "    </tr>\n",
       "    <tr>\n",
       "      <th>8883</th>\n",
       "      <td>41</td>\n",
       "      <td>Self-emp-not-inc</td>\n",
       "      <td>200574</td>\n",
       "      <td>Prof-school</td>\n",
       "      <td>15</td>\n",
       "      <td>Married-civ-spouse</td>\n",
       "      <td>Prof-specialty</td>\n",
       "      <td>Husband</td>\n",
       "      <td>White</td>\n",
       "      <td>Male</td>\n",
       "      <td>0</td>\n",
       "      <td>1977</td>\n",
       "      <td>60</td>\n",
       "      <td>United-States</td>\n",
       "      <td>&gt;50K</td>\n",
       "    </tr>\n",
       "    <tr>\n",
       "      <th>24206</th>\n",
       "      <td>43</td>\n",
       "      <td>Private</td>\n",
       "      <td>111949</td>\n",
       "      <td>HS-grad</td>\n",
       "      <td>9</td>\n",
       "      <td>Married-civ-spouse</td>\n",
       "      <td>Other-service</td>\n",
       "      <td>Wife</td>\n",
       "      <td>White</td>\n",
       "      <td>Female</td>\n",
       "      <td>0</td>\n",
       "      <td>0</td>\n",
       "      <td>35</td>\n",
       "      <td>United-States</td>\n",
       "      <td>&lt;=50K</td>\n",
       "    </tr>\n",
       "    <tr>\n",
       "      <th>24284</th>\n",
       "      <td>57</td>\n",
       "      <td>Self-emp-not-inc</td>\n",
       "      <td>56480</td>\n",
       "      <td>HS-grad</td>\n",
       "      <td>9</td>\n",
       "      <td>Married-civ-spouse</td>\n",
       "      <td>Exec-managerial</td>\n",
       "      <td>Husband</td>\n",
       "      <td>White</td>\n",
       "      <td>Male</td>\n",
       "      <td>0</td>\n",
       "      <td>0</td>\n",
       "      <td>1</td>\n",
       "      <td>United-States</td>\n",
       "      <td>&lt;=50K</td>\n",
       "    </tr>\n",
       "  </tbody>\n",
       "</table>\n",
       "</div>"
      ],
      "text/plain": [
       "       age          workclass  fnlwgt     education  education-num  \\\n",
       "16715   41            Private  183850       HS-grad              9   \n",
       "9444    50            Private  120914          11th              7   \n",
       "8883    41   Self-emp-not-inc  200574   Prof-school             15   \n",
       "24206   43            Private  111949       HS-grad              9   \n",
       "24284   57   Self-emp-not-inc   56480       HS-grad              9   \n",
       "\n",
       "            marital-status        occupation    relationship    race      sex  \\\n",
       "16715             Divorced             Sales   Not-in-family   White     Male   \n",
       "9444    Married-civ-spouse      Craft-repair         Husband   White     Male   \n",
       "8883    Married-civ-spouse    Prof-specialty         Husband   White     Male   \n",
       "24206   Married-civ-spouse     Other-service            Wife   White   Female   \n",
       "24284   Married-civ-spouse   Exec-managerial         Husband   White     Male   \n",
       "\n",
       "       capital-gain  capital-loss  hours-per-week  native-country above-50k  \n",
       "16715             0             0              50   United-States     <=50K  \n",
       "9444              0             0              40   United-States     <=50K  \n",
       "8883              0          1977              60   United-States      >50K  \n",
       "24206             0             0              35   United-States     <=50K  \n",
       "24284             0             0               1   United-States     <=50K  "
      ]
     },
     "execution_count": 15,
     "metadata": {},
     "output_type": "execute_result"
    }
   ],
   "source": [
    "ADULT.sample(5)"
   ]
  },
  {
   "cell_type": "code",
   "execution_count": 16,
   "metadata": {},
   "outputs": [],
   "source": [
    "to_dummy = []\n",
    "for col in range(ADULT.shape[1]):\n",
    "    if ADULT.iloc[:, col].dtype != int:\n",
    "        to_dummy.append(col)\n",
    "        u = ADULT.iloc[:, col].unique()\n",
    "        ADULT.iloc[:, col] = ADULT.iloc[:, col].replace(u, np.arange(len(u)))\n",
    "        \n",
    "to_dummy = to_dummy[:-1]"
   ]
  },
  {
   "cell_type": "code",
   "execution_count": 17,
   "metadata": {},
   "outputs": [
    {
     "data": {
      "text/html": [
       "<div>\n",
       "<style scoped>\n",
       "    .dataframe tbody tr th:only-of-type {\n",
       "        vertical-align: middle;\n",
       "    }\n",
       "\n",
       "    .dataframe tbody tr th {\n",
       "        vertical-align: top;\n",
       "    }\n",
       "\n",
       "    .dataframe thead th {\n",
       "        text-align: right;\n",
       "    }\n",
       "</style>\n",
       "<table border=\"1\" class=\"dataframe\">\n",
       "  <thead>\n",
       "    <tr style=\"text-align: right;\">\n",
       "      <th></th>\n",
       "      <th>age</th>\n",
       "      <th>workclass</th>\n",
       "      <th>fnlwgt</th>\n",
       "      <th>education</th>\n",
       "      <th>education-num</th>\n",
       "      <th>marital-status</th>\n",
       "      <th>occupation</th>\n",
       "      <th>relationship</th>\n",
       "      <th>race</th>\n",
       "      <th>sex</th>\n",
       "      <th>capital-gain</th>\n",
       "      <th>capital-loss</th>\n",
       "      <th>hours-per-week</th>\n",
       "      <th>native-country</th>\n",
       "      <th>above-50k</th>\n",
       "    </tr>\n",
       "  </thead>\n",
       "  <tbody>\n",
       "    <tr>\n",
       "      <th>13297</th>\n",
       "      <td>39</td>\n",
       "      <td>2</td>\n",
       "      <td>29814</td>\n",
       "      <td>1</td>\n",
       "      <td>9</td>\n",
       "      <td>1</td>\n",
       "      <td>10</td>\n",
       "      <td>1</td>\n",
       "      <td>0</td>\n",
       "      <td>0</td>\n",
       "      <td>0</td>\n",
       "      <td>0</td>\n",
       "      <td>40</td>\n",
       "      <td>0</td>\n",
       "      <td>0</td>\n",
       "    </tr>\n",
       "    <tr>\n",
       "      <th>7333</th>\n",
       "      <td>21</td>\n",
       "      <td>2</td>\n",
       "      <td>68358</td>\n",
       "      <td>5</td>\n",
       "      <td>10</td>\n",
       "      <td>0</td>\n",
       "      <td>5</td>\n",
       "      <td>3</td>\n",
       "      <td>0</td>\n",
       "      <td>1</td>\n",
       "      <td>0</td>\n",
       "      <td>0</td>\n",
       "      <td>20</td>\n",
       "      <td>0</td>\n",
       "      <td>0</td>\n",
       "    </tr>\n",
       "    <tr>\n",
       "      <th>7293</th>\n",
       "      <td>34</td>\n",
       "      <td>2</td>\n",
       "      <td>118941</td>\n",
       "      <td>2</td>\n",
       "      <td>7</td>\n",
       "      <td>0</td>\n",
       "      <td>4</td>\n",
       "      <td>0</td>\n",
       "      <td>0</td>\n",
       "      <td>1</td>\n",
       "      <td>0</td>\n",
       "      <td>0</td>\n",
       "      <td>40</td>\n",
       "      <td>38</td>\n",
       "      <td>0</td>\n",
       "    </tr>\n",
       "    <tr>\n",
       "      <th>23807</th>\n",
       "      <td>25</td>\n",
       "      <td>2</td>\n",
       "      <td>95691</td>\n",
       "      <td>1</td>\n",
       "      <td>9</td>\n",
       "      <td>0</td>\n",
       "      <td>4</td>\n",
       "      <td>4</td>\n",
       "      <td>0</td>\n",
       "      <td>1</td>\n",
       "      <td>0</td>\n",
       "      <td>0</td>\n",
       "      <td>30</td>\n",
       "      <td>13</td>\n",
       "      <td>0</td>\n",
       "    </tr>\n",
       "    <tr>\n",
       "      <th>30469</th>\n",
       "      <td>27</td>\n",
       "      <td>1</td>\n",
       "      <td>259873</td>\n",
       "      <td>1</td>\n",
       "      <td>9</td>\n",
       "      <td>1</td>\n",
       "      <td>4</td>\n",
       "      <td>1</td>\n",
       "      <td>1</td>\n",
       "      <td>0</td>\n",
       "      <td>0</td>\n",
       "      <td>0</td>\n",
       "      <td>60</td>\n",
       "      <td>0</td>\n",
       "      <td>1</td>\n",
       "    </tr>\n",
       "  </tbody>\n",
       "</table>\n",
       "</div>"
      ],
      "text/plain": [
       "       age  workclass  fnlwgt  education  education-num  marital-status  \\\n",
       "13297   39          2   29814          1              9               1   \n",
       "7333    21          2   68358          5             10               0   \n",
       "7293    34          2  118941          2              7               0   \n",
       "23807   25          2   95691          1              9               0   \n",
       "30469   27          1  259873          1              9               1   \n",
       "\n",
       "       occupation  relationship  race  sex  capital-gain  capital-loss  \\\n",
       "13297          10             1     0    0             0             0   \n",
       "7333            5             3     0    1             0             0   \n",
       "7293            4             0     0    1             0             0   \n",
       "23807           4             4     0    1             0             0   \n",
       "30469           4             1     1    0             0             0   \n",
       "\n",
       "       hours-per-week  native-country  above-50k  \n",
       "13297              40               0          0  \n",
       "7333               20               0          0  \n",
       "7293               40              38          0  \n",
       "23807              30              13          0  \n",
       "30469              60               0          1  "
      ]
     },
     "execution_count": 17,
     "metadata": {},
     "output_type": "execute_result"
    }
   ],
   "source": [
    "ADULT.sample(5)"
   ]
  },
  {
   "cell_type": "code",
   "execution_count": 21,
   "metadata": {},
   "outputs": [],
   "source": [
    "from sklearn.preprocessing import StandardScaler"
   ]
  },
  {
   "cell_type": "code",
   "execution_count": 27,
   "metadata": {},
   "outputs": [],
   "source": [
    "ss = StandardScaler()\n",
    "\n",
    "ADULT_ss = pd.DataFrame(ss.fit_transform(ADULT), columns=headers)\n",
    "ADULT_ss.iloc[:, -1] = (ADULT_ss.iloc[:, -1] > 0).astype(int)"
   ]
  },
  {
   "cell_type": "code",
   "execution_count": 28,
   "metadata": {},
   "outputs": [
    {
     "data": {
      "text/html": [
       "<div>\n",
       "<style scoped>\n",
       "    .dataframe tbody tr th:only-of-type {\n",
       "        vertical-align: middle;\n",
       "    }\n",
       "\n",
       "    .dataframe tbody tr th {\n",
       "        vertical-align: top;\n",
       "    }\n",
       "\n",
       "    .dataframe thead th {\n",
       "        text-align: right;\n",
       "    }\n",
       "</style>\n",
       "<table border=\"1\" class=\"dataframe\">\n",
       "  <thead>\n",
       "    <tr style=\"text-align: right;\">\n",
       "      <th></th>\n",
       "      <th>age</th>\n",
       "      <th>workclass</th>\n",
       "      <th>fnlwgt</th>\n",
       "      <th>education</th>\n",
       "      <th>education-num</th>\n",
       "      <th>marital-status</th>\n",
       "      <th>occupation</th>\n",
       "      <th>relationship</th>\n",
       "      <th>race</th>\n",
       "      <th>sex</th>\n",
       "      <th>capital-gain</th>\n",
       "      <th>capital-loss</th>\n",
       "      <th>hours-per-week</th>\n",
       "      <th>native-country</th>\n",
       "      <th>above-50k</th>\n",
       "    </tr>\n",
       "  </thead>\n",
       "  <tbody>\n",
       "    <tr>\n",
       "      <th>29148</th>\n",
       "      <td>0.118931</td>\n",
       "      <td>2.022591</td>\n",
       "      <td>0.984515</td>\n",
       "      <td>-0.984162</td>\n",
       "      <td>1.128918</td>\n",
       "      <td>-0.06165</td>\n",
       "      <td>-0.470730</td>\n",
       "      <td>-0.365912</td>\n",
       "      <td>-0.345861</td>\n",
       "      <td>-0.692806</td>\n",
       "      <td>-0.147445</td>\n",
       "      <td>-0.218586</td>\n",
       "      <td>-1.747213</td>\n",
       "      <td>-0.239238</td>\n",
       "      <td>0</td>\n",
       "    </tr>\n",
       "    <tr>\n",
       "      <th>25609</th>\n",
       "      <td>-0.490154</td>\n",
       "      <td>2.022591</td>\n",
       "      <td>-1.613723</td>\n",
       "      <td>0.740115</td>\n",
       "      <td>0.736754</td>\n",
       "      <td>-0.06165</td>\n",
       "      <td>1.860179</td>\n",
       "      <td>-0.365912</td>\n",
       "      <td>-0.345861</td>\n",
       "      <td>-0.692806</td>\n",
       "      <td>-0.147445</td>\n",
       "      <td>-0.218586</td>\n",
       "      <td>1.257849</td>\n",
       "      <td>1.175764</td>\n",
       "      <td>1</td>\n",
       "    </tr>\n",
       "    <tr>\n",
       "      <th>12169</th>\n",
       "      <td>0.195067</td>\n",
       "      <td>2.022591</td>\n",
       "      <td>1.428172</td>\n",
       "      <td>-0.696782</td>\n",
       "      <td>-0.439738</td>\n",
       "      <td>0.75968</td>\n",
       "      <td>-1.344820</td>\n",
       "      <td>-1.064258</td>\n",
       "      <td>-0.345861</td>\n",
       "      <td>1.443405</td>\n",
       "      <td>-0.147445</td>\n",
       "      <td>-0.218586</td>\n",
       "      <td>-0.077734</td>\n",
       "      <td>-0.239238</td>\n",
       "      <td>0</td>\n",
       "    </tr>\n",
       "    <tr>\n",
       "      <th>16738</th>\n",
       "      <td>-0.185611</td>\n",
       "      <td>3.092374</td>\n",
       "      <td>2.813892</td>\n",
       "      <td>1.027494</td>\n",
       "      <td>-2.400559</td>\n",
       "      <td>-0.88298</td>\n",
       "      <td>1.568816</td>\n",
       "      <td>1.729123</td>\n",
       "      <td>1.286922</td>\n",
       "      <td>-0.692806</td>\n",
       "      <td>-0.147445</td>\n",
       "      <td>-0.218586</td>\n",
       "      <td>-0.077734</td>\n",
       "      <td>-0.239238</td>\n",
       "      <td>0</td>\n",
       "    </tr>\n",
       "    <tr>\n",
       "      <th>7869</th>\n",
       "      <td>-0.718561</td>\n",
       "      <td>-0.116973</td>\n",
       "      <td>0.163464</td>\n",
       "      <td>-0.696782</td>\n",
       "      <td>-0.439738</td>\n",
       "      <td>-0.06165</td>\n",
       "      <td>0.986088</td>\n",
       "      <td>-0.365912</td>\n",
       "      <td>-0.345861</td>\n",
       "      <td>-0.692806</td>\n",
       "      <td>-0.147445</td>\n",
       "      <td>-0.218586</td>\n",
       "      <td>-0.077734</td>\n",
       "      <td>-0.239238</td>\n",
       "      <td>0</td>\n",
       "    </tr>\n",
       "  </tbody>\n",
       "</table>\n",
       "</div>"
      ],
      "text/plain": [
       "            age  workclass    fnlwgt  education  education-num  \\\n",
       "29148  0.118931   2.022591  0.984515  -0.984162       1.128918   \n",
       "25609 -0.490154   2.022591 -1.613723   0.740115       0.736754   \n",
       "12169  0.195067   2.022591  1.428172  -0.696782      -0.439738   \n",
       "16738 -0.185611   3.092374  2.813892   1.027494      -2.400559   \n",
       "7869  -0.718561  -0.116973  0.163464  -0.696782      -0.439738   \n",
       "\n",
       "       marital-status  occupation  relationship      race       sex  \\\n",
       "29148        -0.06165   -0.470730     -0.365912 -0.345861 -0.692806   \n",
       "25609        -0.06165    1.860179     -0.365912 -0.345861 -0.692806   \n",
       "12169         0.75968   -1.344820     -1.064258 -0.345861  1.443405   \n",
       "16738        -0.88298    1.568816      1.729123  1.286922 -0.692806   \n",
       "7869         -0.06165    0.986088     -0.365912 -0.345861 -0.692806   \n",
       "\n",
       "       capital-gain  capital-loss  hours-per-week  native-country  above-50k  \n",
       "29148     -0.147445     -0.218586       -1.747213       -0.239238          0  \n",
       "25609     -0.147445     -0.218586        1.257849        1.175764          1  \n",
       "12169     -0.147445     -0.218586       -0.077734       -0.239238          0  \n",
       "16738     -0.147445     -0.218586       -0.077734       -0.239238          0  \n",
       "7869      -0.147445     -0.218586       -0.077734       -0.239238          0  "
      ]
     },
     "execution_count": 28,
     "metadata": {},
     "output_type": "execute_result"
    }
   ],
   "source": [
    "ADULT_ss.sample(5)"
   ]
  },
  {
   "cell_type": "code",
   "execution_count": 29,
   "metadata": {},
   "outputs": [
    {
     "data": {
      "text/plain": [
       "0.24892248524633645"
      ]
     },
     "execution_count": 29,
     "metadata": {},
     "output_type": "execute_result"
    }
   ],
   "source": [
    "ADULT.iloc[:, -1].mean()"
   ]
  },
  {
   "cell_type": "code",
   "execution_count": 36,
   "metadata": {},
   "outputs": [
    {
     "name": "stdout",
     "output_type": "stream",
     "text": [
      "TRAINING SIZE: 6032, TESTING SIZE: 24130\n"
     ]
    }
   ],
   "source": [
    "total = ADULT.shape[0]\n",
    "\n",
    "shuffled = ADULT.sample(frac=1)\n",
    "\n",
    "split = int(total * 0.2)\n",
    "\n",
    "print(f'TRAINING SIZE: {split}, TESTING SIZE: {total - split}')\n",
    "\n",
    "obj_cols = shuffled.iloc[:, to_dummy].astype(object)\n",
    "shuffled_ohe = pd.get_dummies(obj_cols, prefix=np.array(headers)[to_dummy])\n",
    "shuffled_ohe = pd.concat([shuffled.drop(shuffled.columns[to_dummy], axis=1).iloc[:, :-1], shuffled_ohe], axis=1)\n",
    "\n",
    "ss = StandardScaler()\n",
    "\n",
    "shuffled_ohe = ss.fit_transform(shuffled_ohe)\n",
    "\n",
    "X_train_val = shuffled.iloc[:split, :-1]\n",
    "X_train_val_ohe = shuffled_ohe[:split, :]\n",
    "y_train_val = shuffled.iloc[:split, -1]\n",
    "\n",
    "X_test = shuffled.iloc[split:, :-1]\n",
    "X_test_ohe = shuffled_ohe[split:, :]\n",
    "y_test = shuffled.iloc[split:, -1]"
   ]
  },
  {
   "cell_type": "code",
   "execution_count": 37,
   "metadata": {},
   "outputs": [
    {
     "data": {
      "text/plain": [
       "((6032, 14), (6032, 104), (6032,), (24130, 14), (24130, 104), (24130,))"
      ]
     },
     "execution_count": 37,
     "metadata": {},
     "output_type": "execute_result"
    }
   ],
   "source": [
    "X_train_val.shape, X_train_val_ohe.shape, y_train_val.shape, X_test.shape, X_test_ohe.shape, y_test.shape"
   ]
  },
  {
   "cell_type": "code",
   "execution_count": 40,
   "metadata": {},
   "outputs": [
    {
     "data": {
      "text/plain": [
       "array([[ 1.0325595 ,  1.16845945, -0.4397382 , -0.14744462, -0.21858598,\n",
       "         1.17437511, -0.21043313,  3.32710503, -1.68214415, -0.17964832],\n",
       "       [-0.94696807, -0.37141865,  1.12891838, -0.14744462, -0.21858598,\n",
       "         0.75700537, -0.21043313, -0.3005616 , -1.68214415, -0.17964832],\n",
       "       [ 0.11893139,  3.13098292, -0.04757405, -0.14744462, -0.21858598,\n",
       "        -0.16120806, -0.21043313, -0.3005616 ,  0.59447937, -0.17964832],\n",
       "       [ 0.34733841,  2.79284201, -0.04757405,  0.40128306, -0.21858598,\n",
       "        -0.24468201, -0.21043313, -0.3005616 ,  0.59447937, -0.17964832],\n",
       "       [-0.94696807, -0.84018749, -0.4397382 , -0.14744462, -0.21858598,\n",
       "         0.59005747, -0.21043313, -0.3005616 ,  0.59447937, -0.17964832]])"
      ]
     },
     "execution_count": 40,
     "metadata": {},
     "output_type": "execute_result"
    }
   ],
   "source": [
    "X_train_val_ohe[:5, :10]"
   ]
  },
  {
   "cell_type": "code",
   "execution_count": null,
   "metadata": {},
   "outputs": [],
   "source": []
  }
 ],
 "metadata": {
  "kernelspec": {
   "display_name": "Python 3",
   "language": "python",
   "name": "python3"
  },
  "language_info": {
   "codemirror_mode": {
    "name": "ipython",
    "version": 3
   },
   "file_extension": ".py",
   "mimetype": "text/x-python",
   "name": "python",
   "nbconvert_exporter": "python",
   "pygments_lexer": "ipython3",
   "version": "3.6.3"
  }
 },
 "nbformat": 4,
 "nbformat_minor": 2
}
