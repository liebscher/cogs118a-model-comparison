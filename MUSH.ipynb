{
 "cells": [
  {
   "cell_type": "code",
   "execution_count": 2,
   "metadata": {},
   "outputs": [],
   "source": [
    "import pandas as pd\n",
    "pd.options.display.max_columns = 500\n",
    "import numpy as np\n",
    "\n",
    "import datetime\n",
    "import warnings\n",
    "from tqdm import tqdm_notebook as tqdm\n",
    "\n",
    "from sklearn.ensemble import RandomForestClassifier\n",
    "import xgboost as xgb\n",
    "from sklearn.neighbors import KNeighborsClassifier\n",
    "from sklearn.svm import SVC\n",
    "\n",
    "\n",
    "from sklearn.model_selection import KFold\n",
    "from sklearn.model_selection import GridSearchCV"
   ]
  },
  {
   "cell_type": "markdown",
   "metadata": {},
   "source": [
    "# Load remote data\n",
    "\n",
    "Skip if data is saved on microSD"
   ]
  },
  {
   "cell_type": "code",
   "execution_count": 3,
   "metadata": {},
   "outputs": [],
   "source": [
    "MUSH_headers = ['edibility',\n",
    "                'cap-shape',\n",
    "                'cap-surface',\n",
    "                'cap-color',\n",
    "                'bruises',\n",
    "                'odor',\n",
    "                'gill-attachment',\n",
    "                'gill-spacing',\n",
    "                'gill-size',\n",
    "                'gill-color',\n",
    "                'stalk-shape',\n",
    "                'stalk-root',\n",
    "                'stalk-surface-above-ring',\n",
    "                'stalk-surface-below-ring',\n",
    "                'stalk-color-above-ring',\n",
    "                'stalk-color-below-ring',\n",
    "                'veil-type',\n",
    "                'veil-color',\n",
    "                'ring-number',\n",
    "                'ring-type',\n",
    "                'spore-print-color',\n",
    "                'population',\n",
    "                'habitat']"
   ]
  },
  {
   "cell_type": "code",
   "execution_count": 4,
   "metadata": {},
   "outputs": [],
   "source": [
    "MUSH = pd.read_csv('http://archive.ics.uci.edu/ml/machine-learning-databases/mushroom/agaricus-lepiota.data',\n",
    "                  index_col=False, names=MUSH_headers)"
   ]
  },
  {
   "cell_type": "code",
   "execution_count": 5,
   "metadata": {},
   "outputs": [
    {
     "data": {
      "text/plain": [
       "(8124, 23)"
      ]
     },
     "execution_count": 5,
     "metadata": {},
     "output_type": "execute_result"
    }
   ],
   "source": [
    "MUSH.shape"
   ]
  },
  {
   "cell_type": "code",
   "execution_count": 6,
   "metadata": {},
   "outputs": [],
   "source": [
    "for col in range(MUSH.shape[1]):\n",
    "    u = MUSH.iloc[:, col].unique()\n",
    "    MUSH.iloc[:, col] = MUSH.iloc[:, col].replace(u, np.arange(len(u)))"
   ]
  },
  {
   "cell_type": "code",
   "execution_count": 7,
   "metadata": {},
   "outputs": [
    {
     "data": {
      "text/html": [
       "<div>\n",
       "<style scoped>\n",
       "    .dataframe tbody tr th:only-of-type {\n",
       "        vertical-align: middle;\n",
       "    }\n",
       "\n",
       "    .dataframe tbody tr th {\n",
       "        vertical-align: top;\n",
       "    }\n",
       "\n",
       "    .dataframe thead th {\n",
       "        text-align: right;\n",
       "    }\n",
       "</style>\n",
       "<table border=\"1\" class=\"dataframe\">\n",
       "  <thead>\n",
       "    <tr style=\"text-align: right;\">\n",
       "      <th></th>\n",
       "      <th>edibility</th>\n",
       "      <th>cap-shape</th>\n",
       "      <th>cap-surface</th>\n",
       "      <th>cap-color</th>\n",
       "      <th>bruises</th>\n",
       "      <th>odor</th>\n",
       "      <th>gill-attachment</th>\n",
       "      <th>gill-spacing</th>\n",
       "      <th>gill-size</th>\n",
       "      <th>gill-color</th>\n",
       "      <th>stalk-shape</th>\n",
       "      <th>stalk-root</th>\n",
       "      <th>stalk-surface-above-ring</th>\n",
       "      <th>stalk-surface-below-ring</th>\n",
       "      <th>stalk-color-above-ring</th>\n",
       "      <th>stalk-color-below-ring</th>\n",
       "      <th>veil-type</th>\n",
       "      <th>veil-color</th>\n",
       "      <th>ring-number</th>\n",
       "      <th>ring-type</th>\n",
       "      <th>spore-print-color</th>\n",
       "      <th>population</th>\n",
       "      <th>habitat</th>\n",
       "    </tr>\n",
       "  </thead>\n",
       "  <tbody>\n",
       "    <tr>\n",
       "      <th>3572</th>\n",
       "      <td>0</td>\n",
       "      <td>0</td>\n",
       "      <td>2</td>\n",
       "      <td>1</td>\n",
       "      <td>1</td>\n",
       "      <td>4</td>\n",
       "      <td>0</td>\n",
       "      <td>0</td>\n",
       "      <td>1</td>\n",
       "      <td>2</td>\n",
       "      <td>0</td>\n",
       "      <td>2</td>\n",
       "      <td>2</td>\n",
       "      <td>3</td>\n",
       "      <td>2</td>\n",
       "      <td>4</td>\n",
       "      <td>0</td>\n",
       "      <td>0</td>\n",
       "      <td>0</td>\n",
       "      <td>2</td>\n",
       "      <td>3</td>\n",
       "      <td>4</td>\n",
       "      <td>4</td>\n",
       "    </tr>\n",
       "    <tr>\n",
       "      <th>3877</th>\n",
       "      <td>1</td>\n",
       "      <td>3</td>\n",
       "      <td>2</td>\n",
       "      <td>4</td>\n",
       "      <td>0</td>\n",
       "      <td>3</td>\n",
       "      <td>0</td>\n",
       "      <td>0</td>\n",
       "      <td>1</td>\n",
       "      <td>1</td>\n",
       "      <td>1</td>\n",
       "      <td>2</td>\n",
       "      <td>0</td>\n",
       "      <td>0</td>\n",
       "      <td>1</td>\n",
       "      <td>1</td>\n",
       "      <td>0</td>\n",
       "      <td>0</td>\n",
       "      <td>0</td>\n",
       "      <td>0</td>\n",
       "      <td>1</td>\n",
       "      <td>3</td>\n",
       "      <td>3</td>\n",
       "    </tr>\n",
       "    <tr>\n",
       "      <th>3608</th>\n",
       "      <td>0</td>\n",
       "      <td>3</td>\n",
       "      <td>2</td>\n",
       "      <td>3</td>\n",
       "      <td>1</td>\n",
       "      <td>4</td>\n",
       "      <td>0</td>\n",
       "      <td>0</td>\n",
       "      <td>1</td>\n",
       "      <td>3</td>\n",
       "      <td>0</td>\n",
       "      <td>2</td>\n",
       "      <td>2</td>\n",
       "      <td>3</td>\n",
       "      <td>4</td>\n",
       "      <td>3</td>\n",
       "      <td>0</td>\n",
       "      <td>0</td>\n",
       "      <td>0</td>\n",
       "      <td>2</td>\n",
       "      <td>3</td>\n",
       "      <td>4</td>\n",
       "      <td>4</td>\n",
       "    </tr>\n",
       "  </tbody>\n",
       "</table>\n",
       "</div>"
      ],
      "text/plain": [
       "      edibility  cap-shape  cap-surface  cap-color  bruises  odor  \\\n",
       "3572          0          0            2          1        1     4   \n",
       "3877          1          3            2          4        0     3   \n",
       "3608          0          3            2          3        1     4   \n",
       "\n",
       "      gill-attachment  gill-spacing  gill-size  gill-color  stalk-shape  \\\n",
       "3572                0             0          1           2            0   \n",
       "3877                0             0          1           1            1   \n",
       "3608                0             0          1           3            0   \n",
       "\n",
       "      stalk-root  stalk-surface-above-ring  stalk-surface-below-ring  \\\n",
       "3572           2                         2                         3   \n",
       "3877           2                         0                         0   \n",
       "3608           2                         2                         3   \n",
       "\n",
       "      stalk-color-above-ring  stalk-color-below-ring  veil-type  veil-color  \\\n",
       "3572                       2                       4          0           0   \n",
       "3877                       1                       1          0           0   \n",
       "3608                       4                       3          0           0   \n",
       "\n",
       "      ring-number  ring-type  spore-print-color  population  habitat  \n",
       "3572            0          2                  3           4        4  \n",
       "3877            0          0                  1           3        3  \n",
       "3608            0          2                  3           4        4  "
      ]
     },
     "execution_count": 7,
     "metadata": {},
     "output_type": "execute_result"
    }
   ],
   "source": [
    "MUSH.sample(3)"
   ]
  },
  {
   "cell_type": "code",
   "execution_count": 8,
   "metadata": {},
   "outputs": [],
   "source": [
    "def log(message):\n",
    "    t = datetime.datetime.now()\n",
    "    with open('MUSH_cv.log', 'a') as logf:\n",
    "        logf.write(f'[{t}] {message}\\n')\n",
    "\n",
    "def log_scores(partition, classifier, training, validation, testing):\n",
    "    log(f'{classifier} {partition} {training:.4f} {validation:.4f} {testing:.4f}')\n",
    "\n",
    "def log_parameters(params):\n",
    "    res = []\n",
    "    for key in params:\n",
    "        res.append(f'{key}: {params[key]}')\n",
    "        \n",
    "    log(f'BEST_PARAMS: {\", \".join(res)}')"
   ]
  },
  {
   "cell_type": "markdown",
   "metadata": {},
   "source": [
    "# Model Performance Testing\n",
    "\n",
    "### Set up KFold"
   ]
  },
  {
   "cell_type": "code",
   "execution_count": 9,
   "metadata": {},
   "outputs": [],
   "source": [
    "folds = 5\n",
    "\n",
    "kf = KFold(n_splits=folds, shuffle=True)"
   ]
  },
  {
   "cell_type": "markdown",
   "metadata": {},
   "source": [
    "### Initialize 4 classifiers to test"
   ]
  },
  {
   "cell_type": "code",
   "execution_count": 10,
   "metadata": {},
   "outputs": [],
   "source": [
    "rfc = RandomForestClassifier(n_estimators=1024, n_jobs=-1, criterion='entropy')\n",
    "rfc_params = {'max_features': [1, 2, 4, 6, 8, 12, 16, 20]}\n",
    "\n",
    "svc = SVC()\n",
    "svc_params = {'kernel': ['linear', 'poly', 'rbf'], \n",
    "              'degree': [2, 3], \n",
    "              'gamma': [0.001,0.005,0.01,0.05,0.1,0.5,1,2],\n",
    "              'C': [10e-7, 10e-6, 10e-5, 10e-4, 10e-3, 10e-2, 0.1, 1.0, 10.0, 100.0]}\n",
    "\n",
    "knn = KNeighborsClassifier(n_jobs=-1)\n",
    "knn_params = {'weights': ['uniform', 'distance']}\n",
    "\n",
    "boost = xgb.XGBClassifier()\n",
    "boost_params = {'n_estimators': [2, 4, 8, 16, 32, 64, 128, 256, 512, 1024, 2048]}"
   ]
  },
  {
   "cell_type": "markdown",
   "metadata": {},
   "source": [
    "## Test performance of all classifiers"
   ]
  },
  {
   "cell_type": "code",
   "execution_count": 11,
   "metadata": {},
   "outputs": [
    {
     "data": {
      "application/vnd.jupyter.widget-view+json": {
       "model_id": "ba139d402eb6449a90f8df88a24288f6",
       "version_major": 2,
       "version_minor": 0
      },
      "text/plain": [
       "A Jupyter Widget"
      ]
     },
     "metadata": {},
     "output_type": "display_data"
    },
    {
     "name": "stdout",
     "output_type": "stream",
     "text": [
      "\n"
     ]
    }
   ],
   "source": [
    "classifier_names = ['boost', 'knn', 'random forest', 'svc']\n",
    "classifiers = [boost, knn, rfc, svc]\n",
    "classifier_params = [boost_params, knn_params, rfc_params, svc_params]\n",
    "trials = 3\n",
    "partitions = [0.2, 0.5, 0.8]\n",
    "total = MUSH.shape[0]\n",
    "\n",
    "def grid_search(classifier, params):\n",
    "    return GridSearchCV(classifier, params, cv=kf, return_train_score=True, scoring='f1')\n",
    "\n",
    "def train_val(classifier, params, X_train, y_train):\n",
    "    gs = grid_search(classifier, params)\n",
    "    gs.fit(X_train, y_train)\n",
    "        \n",
    "    return gs\n",
    "\n",
    "def test(estimator, X_test, y_test):\n",
    "    return estimator.score(X_test, y_test)\n",
    "\n",
    "pbar = tqdm(total=len(partitions)*trials*len(classifiers))\n",
    "\n",
    "log('==== MUSH CV ====')\n",
    "\n",
    "for partition in partitions:\n",
    "    \n",
    "    shuffled = MUSH.sample(frac=1)\n",
    "    \n",
    "    split = min(int(total * partition), 5000)\n",
    "    \n",
    "    log(f'TRAINING SIZE: {split}, TESTING SIZE: {total - split}')\n",
    "    \n",
    "    obj_cols = shuffled.iloc[:, 1:].astype(object)\n",
    "    shuffled_ohe = pd.get_dummies(obj_cols, prefix=MUSH_headers[1:])\n",
    "    \n",
    "    X_train_val = shuffled.iloc[:split, 1:]\n",
    "    X_train_val_ohe = shuffled_ohe.iloc[:split, :]\n",
    "    y_train_val = shuffled.iloc[:split, 0]\n",
    "    \n",
    "    X_test = shuffled.iloc[split:, 1:]\n",
    "    X_test_ohe = shuffled_ohe.iloc[split:, :]\n",
    "    y_test = shuffled.iloc[split:, 0]\n",
    "        \n",
    "    for classifier, params, name in zip(classifiers, classifier_params, classifier_names):\n",
    "        \n",
    "        training = []\n",
    "        validation = []\n",
    "        testing = []\n",
    "        best_params = []\n",
    "        \n",
    "        if name == 'knn':\n",
    "            params['n_neighbors'] = np.linspace(1, int(split * (folds-1)/folds), 26).astype(int)\n",
    "        \n",
    "        for trial in range(trials):\n",
    "            with warnings.catch_warnings():\n",
    "                warnings.simplefilter(\"ignore\")\n",
    "                if name in ['svc', 'knn']:\n",
    "                    gs = train_val(classifier, params, X_train_val_ohe, y_train_val)\n",
    "                    testing.append(test(gs.best_estimator_, X_test_ohe, y_test))\n",
    "                elif name in ['random forest', 'boost']:\n",
    "                    gs = train_val(classifier, params, X_train_val, y_train_val)\n",
    "                    testing.append(test(gs.best_estimator_, X_test, y_test))                \n",
    "            \n",
    "            log(f'TRAIN: {name} {partition} {trial + 1}')\n",
    "                                    \n",
    "            training.append(gs.cv_results_['mean_train_score'])\n",
    "            validation.append(gs.cv_results_['mean_test_score'])\n",
    "            best_params.append(gs.best_params_)\n",
    "            pbar.update()\n",
    "            \n",
    "        training = max(np.array(training).mean(axis=0))\n",
    "        validation = max(np.array(validation).mean(axis=0))\n",
    "        testing = np.mean(testing)\n",
    "        \n",
    "        log_scores(partition, name, training, validation, testing)\n",
    "        log_parameters(best_params[np.argmax(testing)])\n",
    "        \n",
    "pbar.close()"
   ]
  },
  {
   "cell_type": "code",
   "execution_count": null,
   "metadata": {},
   "outputs": [],
   "source": []
  }
 ],
 "metadata": {
  "kernelspec": {
   "display_name": "Python 3",
   "language": "python",
   "name": "python3"
  },
  "language_info": {
   "codemirror_mode": {
    "name": "ipython",
    "version": 3
   },
   "file_extension": ".py",
   "mimetype": "text/x-python",
   "name": "python",
   "nbconvert_exporter": "python",
   "pygments_lexer": "ipython3",
   "version": "3.6.3"
  }
 },
 "nbformat": 4,
 "nbformat_minor": 2
}
